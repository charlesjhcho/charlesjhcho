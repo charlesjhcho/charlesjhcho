{
  "metadata": {
    "kernelspec": {
      "name": "python",
      "display_name": "Pyolite",
      "language": "python"
    },
    "language_info": {
      "codemirror_mode": {
        "name": "python",
        "version": 3
      },
      "file_extension": ".py",
      "mimetype": "text/x-python",
      "name": "python",
      "nbconvert_exporter": "python",
      "pygments_lexer": "ipython3",
      "version": "3.8"
    }
  },
  "nbformat_minor": 4,
  "nbformat": 4,
  "cells": [
    {
      "cell_type": "markdown",
      "source": "<center>\n    <img src=\"https://s3-api.us-geo.objectstorage.softlayer.net/cf-courses-data/CognitiveClass/Logos/organization_logo/organization_logo.png\" width=\"300\" alt=\"cognitiveclass.ai logo\"  />\n</center>\n",
      "metadata": {}
    },
    {
      "cell_type": "markdown",
      "source": "#### Add your code below following the instructions given in the course\n",
      "metadata": {}
    },
    {
      "cell_type": "markdown",
      "source": "# My Jupyter Notebook on IBM Watson Studio",
      "metadata": {}
    },
    {
      "cell_type": "markdown",
      "source": "**Charles Cho**\nneurosurgeon",
      "metadata": {}
    },
    {
      "cell_type": "markdown",
      "source": "*I'm interested in Data science because I felt that neuroscience has a lot in common with data science such as AI so I realized that data science can be worked as one of the methods that human can use to express its brains or mechanisms how brain works. Moreover, there has been numerous researches and patents that uses data science, so I wanted to make my own code that can help AI diagnose efficiently and effectively.*",
      "metadata": {}
    },
    {
      "cell_type": "markdown",
      "source": "### The code below that I made solves 1+2",
      "metadata": {}
    },
    {
      "cell_type": "code",
      "source": "1+2",
      "metadata": {},
      "execution_count": null,
      "outputs": []
    },
    {
      "cell_type": "markdown",
      "source": "My profile\n - age : 18\n - nationality : USA\n - height : 5'8\n\n---\n\n[instagram] (https://www.instagram.com/charlesjhcho)\n\n![Charlescho](/Users/charlescho/Desktop/Charlescho.JPG)",
      "metadata": {}
    }
  ]
}